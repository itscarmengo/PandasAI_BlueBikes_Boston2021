{
 "cells": [
  {
   "cell_type": "code",
   "execution_count": 31,
   "id": "9f551b67-546e-4154-826e-4f0670a223ca",
   "metadata": {},
   "outputs": [
    {
     "name": "stdout",
     "output_type": "stream",
     "text": [
      "   tripduration                starttime                 stoptime  \\\n",
      "0           914  2021-01-01 00:00:04.590  2021-01-01 00:15:19.168   \n",
      "1          1085  2021-01-01 00:00:21.803  2021-01-01 00:18:27.464   \n",
      "2           946  2021-01-01 00:00:26.009  2021-01-01 00:16:12.090   \n",
      "3           355  2021-01-01 00:00:30.921  2021-01-01 00:06:26.600   \n",
      "4           511  2021-01-01 00:01:11.227  2021-01-01 00:09:43.195   \n",
      "\n",
      "   start station id                                 start station name  \\\n",
      "0                91   One Kendall Square at Hampshire St / Portland St   \n",
      "1               370                         Dartmouth St at Newbury St   \n",
      "2                46  Christian Science Plaza - Massachusetts Ave at...   \n",
      "3               178                    MIT Pacific St at Purrington St   \n",
      "4               386            Sennott Park Broadway at Norfolk Street   \n",
      "\n",
      "   start station latitude  start station longitude  end station id  \\\n",
      "0               42.366277               -71.091690             370   \n",
      "1               42.350961               -71.077828             169   \n",
      "2               42.343666               -71.085824              21   \n",
      "3               42.359573               -71.101295             107   \n",
      "4               42.368605               -71.099302             413   \n",
      "\n",
      "                          end station name  end station latitude  \\\n",
      "0               Dartmouth St at Newbury St             42.350961   \n",
      "1  Edwards Playground - Main St at Eden St             42.378965   \n",
      "2   Prudential Center - 101 Huntington Ave             42.346520   \n",
      "3                       Ames St at Main St             42.362500   \n",
      "4  Kennedy-Longfellow School 158 Spring St             42.369553   \n",
      "\n",
      "   end station longitude  bikeid    usertype  weekday_start  weekday_stop  \\\n",
      "0             -71.077828    5316    Customer              4             4   \n",
      "1             -71.068607    4917  Subscriber              4             4   \n",
      "2             -71.080658    2881    Customer              4             4   \n",
      "3             -71.088220    4792  Subscriber              4             4   \n",
      "4             -71.085790    6062  Subscriber              4             4   \n",
      "\n",
      "   fin_de_semana_start  fin_de_semana_stop  usertype_binary  \\\n",
      "0                    0                   0                0   \n",
      "1                    0                   0                1   \n",
      "2                    0                   0                0   \n",
      "3                    0                   0                1   \n",
      "4                    0                   0                1   \n",
      "\n",
      "   distance_haversine  \n",
      "0         2049.432144  \n",
      "1         3205.694222  \n",
      "2          530.243506  \n",
      "3         1122.833764  \n",
      "4         1115.367617  \n"
     ]
    }
   ],
   "source": [
    "#Pandas AI\n",
    "import pandas as pd\n",
    "\n",
    "ruta_archivo_csv='C:\\\\Users\\\\gerar\\\\Downloads\\\\BostonBPS21.csv'\n",
    "combined_df=pd.read_csv(ruta_archivo_csv)\n",
    "print(combined_df.head())"
   ]
  },
  {
   "cell_type": "code",
   "execution_count": 32,
   "id": "b5e5548d-f35b-44f9-bd79-72600e618fcd",
   "metadata": {},
   "outputs": [
    {
     "data": {
      "text/html": [
       "<div>\n",
       "<style scoped>\n",
       "    .dataframe tbody tr th:only-of-type {\n",
       "        vertical-align: middle;\n",
       "    }\n",
       "\n",
       "    .dataframe tbody tr th {\n",
       "        vertical-align: top;\n",
       "    }\n",
       "\n",
       "    .dataframe thead th {\n",
       "        text-align: right;\n",
       "    }\n",
       "</style>\n",
       "<table border=\"1\" class=\"dataframe\">\n",
       "  <thead>\n",
       "    <tr style=\"text-align: right;\">\n",
       "      <th></th>\n",
       "      <th>tripduration</th>\n",
       "      <th>starttime</th>\n",
       "      <th>stoptime</th>\n",
       "      <th>start station id</th>\n",
       "      <th>start station name</th>\n",
       "      <th>start station latitude</th>\n",
       "      <th>start station longitude</th>\n",
       "      <th>end station id</th>\n",
       "      <th>end station name</th>\n",
       "      <th>end station latitude</th>\n",
       "      <th>end station longitude</th>\n",
       "      <th>bikeid</th>\n",
       "      <th>usertype</th>\n",
       "      <th>weekday_start</th>\n",
       "      <th>weekday_stop</th>\n",
       "      <th>fin_de_semana_start</th>\n",
       "      <th>fin_de_semana_stop</th>\n",
       "      <th>usertype_binary</th>\n",
       "      <th>distance_haversine</th>\n",
       "    </tr>\n",
       "  </thead>\n",
       "  <tbody>\n",
       "    <tr>\n",
       "      <th>2934368</th>\n",
       "      <td>594</td>\n",
       "      <td>2021-12-31 23:56:23.389</td>\n",
       "      <td>2022-01-01 00:06:17.553</td>\n",
       "      <td>536</td>\n",
       "      <td>Clinton St at North St</td>\n",
       "      <td>42.360703</td>\n",
       "      <td>-71.055249</td>\n",
       "      <td>6</td>\n",
       "      <td>Cambridge St at Joy St</td>\n",
       "      <td>42.361257</td>\n",
       "      <td>-71.065287</td>\n",
       "      <td>2163</td>\n",
       "      <td>Customer</td>\n",
       "      <td>4</td>\n",
       "      <td>5</td>\n",
       "      <td>0</td>\n",
       "      <td>1</td>\n",
       "      <td>0</td>\n",
       "      <td>827.331379</td>\n",
       "    </tr>\n",
       "    <tr>\n",
       "      <th>2934369</th>\n",
       "      <td>653</td>\n",
       "      <td>2021-12-31 23:56:27.092</td>\n",
       "      <td>2022-01-01 00:07:20.927</td>\n",
       "      <td>536</td>\n",
       "      <td>Clinton St at North St</td>\n",
       "      <td>42.360703</td>\n",
       "      <td>-71.055249</td>\n",
       "      <td>6</td>\n",
       "      <td>Cambridge St at Joy St</td>\n",
       "      <td>42.361257</td>\n",
       "      <td>-71.065287</td>\n",
       "      <td>3073</td>\n",
       "      <td>Customer</td>\n",
       "      <td>4</td>\n",
       "      <td>5</td>\n",
       "      <td>0</td>\n",
       "      <td>1</td>\n",
       "      <td>0</td>\n",
       "      <td>827.331379</td>\n",
       "    </tr>\n",
       "    <tr>\n",
       "      <th>2934370</th>\n",
       "      <td>2376</td>\n",
       "      <td>2021-12-31 23:57:13.272</td>\n",
       "      <td>2022-01-01 00:36:50.136</td>\n",
       "      <td>228</td>\n",
       "      <td>One Memorial Drive</td>\n",
       "      <td>42.361619</td>\n",
       "      <td>-71.080436</td>\n",
       "      <td>228</td>\n",
       "      <td>One Memorial Drive</td>\n",
       "      <td>42.361619</td>\n",
       "      <td>-71.080436</td>\n",
       "      <td>4714</td>\n",
       "      <td>Subscriber</td>\n",
       "      <td>4</td>\n",
       "      <td>5</td>\n",
       "      <td>0</td>\n",
       "      <td>1</td>\n",
       "      <td>1</td>\n",
       "      <td>0.000000</td>\n",
       "    </tr>\n",
       "    <tr>\n",
       "      <th>2934371</th>\n",
       "      <td>380</td>\n",
       "      <td>2021-12-31 23:57:26.986</td>\n",
       "      <td>2022-01-01 00:03:47.269</td>\n",
       "      <td>90</td>\n",
       "      <td>Lechmere Station at Cambridge St / First St</td>\n",
       "      <td>42.370677</td>\n",
       "      <td>-71.076529</td>\n",
       "      <td>190</td>\n",
       "      <td>Nashua Street at Red Auerbach Way</td>\n",
       "      <td>42.365673</td>\n",
       "      <td>-71.064263</td>\n",
       "      <td>6710</td>\n",
       "      <td>Subscriber</td>\n",
       "      <td>4</td>\n",
       "      <td>5</td>\n",
       "      <td>0</td>\n",
       "      <td>1</td>\n",
       "      <td>1</td>\n",
       "      <td>1151.476823</td>\n",
       "    </tr>\n",
       "    <tr>\n",
       "      <th>2934372</th>\n",
       "      <td>482</td>\n",
       "      <td>2021-12-31 23:58:07.646</td>\n",
       "      <td>2022-01-01 00:06:10.301</td>\n",
       "      <td>75</td>\n",
       "      <td>Lafayette Square at Mass Ave / Main St / Colum...</td>\n",
       "      <td>42.363465</td>\n",
       "      <td>-71.100573</td>\n",
       "      <td>60</td>\n",
       "      <td>Charles Circle - Charles St at Cambridge St</td>\n",
       "      <td>42.360793</td>\n",
       "      <td>-71.071190</td>\n",
       "      <td>6505</td>\n",
       "      <td>Subscriber</td>\n",
       "      <td>4</td>\n",
       "      <td>5</td>\n",
       "      <td>0</td>\n",
       "      <td>1</td>\n",
       "      <td>1</td>\n",
       "      <td>2433.191366</td>\n",
       "    </tr>\n",
       "    <tr>\n",
       "      <th>2934373</th>\n",
       "      <td>480</td>\n",
       "      <td>2021-12-31 23:58:38.234</td>\n",
       "      <td>2022-01-01 00:06:38.873</td>\n",
       "      <td>4</td>\n",
       "      <td>Tremont St at E Berkeley St</td>\n",
       "      <td>42.345392</td>\n",
       "      <td>-71.069616</td>\n",
       "      <td>415</td>\n",
       "      <td>Stuart St at Berkeley St</td>\n",
       "      <td>42.349544</td>\n",
       "      <td>-71.072421</td>\n",
       "      <td>4895</td>\n",
       "      <td>Subscriber</td>\n",
       "      <td>4</td>\n",
       "      <td>5</td>\n",
       "      <td>0</td>\n",
       "      <td>1</td>\n",
       "      <td>1</td>\n",
       "      <td>516.186819</td>\n",
       "    </tr>\n",
       "    <tr>\n",
       "      <th>2934374</th>\n",
       "      <td>757</td>\n",
       "      <td>2021-12-31 23:58:46.913</td>\n",
       "      <td>2022-01-01 00:11:24.098</td>\n",
       "      <td>77</td>\n",
       "      <td>Somerville City Hall</td>\n",
       "      <td>42.386844</td>\n",
       "      <td>-71.098120</td>\n",
       "      <td>96</td>\n",
       "      <td>Cambridge Main Library at Broadway / Trowbridg...</td>\n",
       "      <td>42.373379</td>\n",
       "      <td>-71.111075</td>\n",
       "      <td>3665</td>\n",
       "      <td>Customer</td>\n",
       "      <td>4</td>\n",
       "      <td>5</td>\n",
       "      <td>0</td>\n",
       "      <td>1</td>\n",
       "      <td>0</td>\n",
       "      <td>1837.433949</td>\n",
       "    </tr>\n",
       "    <tr>\n",
       "      <th>2934375</th>\n",
       "      <td>280</td>\n",
       "      <td>2021-12-31 23:58:49.663</td>\n",
       "      <td>2022-01-01 00:03:30.278</td>\n",
       "      <td>338</td>\n",
       "      <td>Commonwealth Ave at Kelton St</td>\n",
       "      <td>42.348359</td>\n",
       "      <td>-71.139972</td>\n",
       "      <td>8</td>\n",
       "      <td>Union Square - Brighton Ave at Cambridge St</td>\n",
       "      <td>42.353334</td>\n",
       "      <td>-71.137313</td>\n",
       "      <td>6470</td>\n",
       "      <td>Subscriber</td>\n",
       "      <td>4</td>\n",
       "      <td>5</td>\n",
       "      <td>0</td>\n",
       "      <td>1</td>\n",
       "      <td>1</td>\n",
       "      <td>595.016257</td>\n",
       "    </tr>\n",
       "    <tr>\n",
       "      <th>2934376</th>\n",
       "      <td>118</td>\n",
       "      <td>2021-12-31 23:59:50.128</td>\n",
       "      <td>2022-01-01 00:01:49.068</td>\n",
       "      <td>32</td>\n",
       "      <td>Landmark Center - Brookline Ave at Park Dr</td>\n",
       "      <td>42.343691</td>\n",
       "      <td>-71.102353</td>\n",
       "      <td>19</td>\n",
       "      <td>Park Dr at Buswell St</td>\n",
       "      <td>42.347241</td>\n",
       "      <td>-71.105301</td>\n",
       "      <td>6484</td>\n",
       "      <td>Subscriber</td>\n",
       "      <td>4</td>\n",
       "      <td>5</td>\n",
       "      <td>0</td>\n",
       "      <td>1</td>\n",
       "      <td>1</td>\n",
       "      <td>463.355853</td>\n",
       "    </tr>\n",
       "    <tr>\n",
       "      <th>2934377</th>\n",
       "      <td>557</td>\n",
       "      <td>2021-12-31 23:59:59.802</td>\n",
       "      <td>2022-01-01 00:09:17.137</td>\n",
       "      <td>17</td>\n",
       "      <td>Soldiers Field Park - 111 Western Ave</td>\n",
       "      <td>42.364263</td>\n",
       "      <td>-71.118276</td>\n",
       "      <td>108</td>\n",
       "      <td>Harvard University / SEAS Cruft-Pierce Halls a...</td>\n",
       "      <td>42.377945</td>\n",
       "      <td>-71.116865</td>\n",
       "      <td>4780</td>\n",
       "      <td>Subscriber</td>\n",
       "      <td>4</td>\n",
       "      <td>5</td>\n",
       "      <td>0</td>\n",
       "      <td>1</td>\n",
       "      <td>1</td>\n",
       "      <td>1526.206594</td>\n",
       "    </tr>\n",
       "  </tbody>\n",
       "</table>\n",
       "</div>"
      ],
      "text/plain": [
       "         tripduration                starttime                 stoptime  \\\n",
       "2934368           594  2021-12-31 23:56:23.389  2022-01-01 00:06:17.553   \n",
       "2934369           653  2021-12-31 23:56:27.092  2022-01-01 00:07:20.927   \n",
       "2934370          2376  2021-12-31 23:57:13.272  2022-01-01 00:36:50.136   \n",
       "2934371           380  2021-12-31 23:57:26.986  2022-01-01 00:03:47.269   \n",
       "2934372           482  2021-12-31 23:58:07.646  2022-01-01 00:06:10.301   \n",
       "2934373           480  2021-12-31 23:58:38.234  2022-01-01 00:06:38.873   \n",
       "2934374           757  2021-12-31 23:58:46.913  2022-01-01 00:11:24.098   \n",
       "2934375           280  2021-12-31 23:58:49.663  2022-01-01 00:03:30.278   \n",
       "2934376           118  2021-12-31 23:59:50.128  2022-01-01 00:01:49.068   \n",
       "2934377           557  2021-12-31 23:59:59.802  2022-01-01 00:09:17.137   \n",
       "\n",
       "         start station id                                 start station name  \\\n",
       "2934368               536                             Clinton St at North St   \n",
       "2934369               536                             Clinton St at North St   \n",
       "2934370               228                                 One Memorial Drive   \n",
       "2934371                90        Lechmere Station at Cambridge St / First St   \n",
       "2934372                75  Lafayette Square at Mass Ave / Main St / Colum...   \n",
       "2934373                 4                        Tremont St at E Berkeley St   \n",
       "2934374                77                               Somerville City Hall   \n",
       "2934375               338                      Commonwealth Ave at Kelton St   \n",
       "2934376                32         Landmark Center - Brookline Ave at Park Dr   \n",
       "2934377                17              Soldiers Field Park - 111 Western Ave   \n",
       "\n",
       "         start station latitude  start station longitude  end station id  \\\n",
       "2934368               42.360703               -71.055249               6   \n",
       "2934369               42.360703               -71.055249               6   \n",
       "2934370               42.361619               -71.080436             228   \n",
       "2934371               42.370677               -71.076529             190   \n",
       "2934372               42.363465               -71.100573              60   \n",
       "2934373               42.345392               -71.069616             415   \n",
       "2934374               42.386844               -71.098120              96   \n",
       "2934375               42.348359               -71.139972               8   \n",
       "2934376               42.343691               -71.102353              19   \n",
       "2934377               42.364263               -71.118276             108   \n",
       "\n",
       "                                          end station name  \\\n",
       "2934368                             Cambridge St at Joy St   \n",
       "2934369                             Cambridge St at Joy St   \n",
       "2934370                                 One Memorial Drive   \n",
       "2934371                  Nashua Street at Red Auerbach Way   \n",
       "2934372        Charles Circle - Charles St at Cambridge St   \n",
       "2934373                           Stuart St at Berkeley St   \n",
       "2934374  Cambridge Main Library at Broadway / Trowbridg...   \n",
       "2934375        Union Square - Brighton Ave at Cambridge St   \n",
       "2934376                              Park Dr at Buswell St   \n",
       "2934377  Harvard University / SEAS Cruft-Pierce Halls a...   \n",
       "\n",
       "         end station latitude  end station longitude  bikeid    usertype  \\\n",
       "2934368             42.361257             -71.065287    2163    Customer   \n",
       "2934369             42.361257             -71.065287    3073    Customer   \n",
       "2934370             42.361619             -71.080436    4714  Subscriber   \n",
       "2934371             42.365673             -71.064263    6710  Subscriber   \n",
       "2934372             42.360793             -71.071190    6505  Subscriber   \n",
       "2934373             42.349544             -71.072421    4895  Subscriber   \n",
       "2934374             42.373379             -71.111075    3665    Customer   \n",
       "2934375             42.353334             -71.137313    6470  Subscriber   \n",
       "2934376             42.347241             -71.105301    6484  Subscriber   \n",
       "2934377             42.377945             -71.116865    4780  Subscriber   \n",
       "\n",
       "         weekday_start  weekday_stop  fin_de_semana_start  fin_de_semana_stop  \\\n",
       "2934368              4             5                    0                   1   \n",
       "2934369              4             5                    0                   1   \n",
       "2934370              4             5                    0                   1   \n",
       "2934371              4             5                    0                   1   \n",
       "2934372              4             5                    0                   1   \n",
       "2934373              4             5                    0                   1   \n",
       "2934374              4             5                    0                   1   \n",
       "2934375              4             5                    0                   1   \n",
       "2934376              4             5                    0                   1   \n",
       "2934377              4             5                    0                   1   \n",
       "\n",
       "         usertype_binary  distance_haversine  \n",
       "2934368                0          827.331379  \n",
       "2934369                0          827.331379  \n",
       "2934370                1            0.000000  \n",
       "2934371                1         1151.476823  \n",
       "2934372                1         2433.191366  \n",
       "2934373                1          516.186819  \n",
       "2934374                0         1837.433949  \n",
       "2934375                1          595.016257  \n",
       "2934376                1          463.355853  \n",
       "2934377                1         1526.206594  "
      ]
     },
     "execution_count": 32,
     "metadata": {},
     "output_type": "execute_result"
    }
   ],
   "source": [
    "combined_df.tail(10)"
   ]
  },
  {
   "cell_type": "code",
   "execution_count": 33,
   "id": "123f1c01-28c8-4956-bc45-6750640a00f6",
   "metadata": {},
   "outputs": [
    {
     "name": "stdout",
     "output_type": "stream",
     "text": [
      "Requirement already satisfied: pandasai in c:\\users\\gerar\\documents\\python scripts\\lib\\site-packages (2.0.32)\n",
      "Requirement already satisfied: astor<0.9.0,>=0.8.1 in c:\\users\\gerar\\documents\\python scripts\\lib\\site-packages (from pandasai) (0.8.1)\n",
      "Requirement already satisfied: duckdb<1 in c:\\users\\gerar\\documents\\python scripts\\lib\\site-packages (from pandasai) (0.10.1)\n",
      "Requirement already satisfied: faker<20.0.0,>=19.12.0 in c:\\users\\gerar\\documents\\python scripts\\lib\\site-packages (from pandasai) (19.13.0)\n",
      "Requirement already satisfied: jinja2<4.0.0,>=3.1.3 in c:\\users\\gerar\\documents\\python scripts\\lib\\site-packages (from pandasai) (3.1.3)\n",
      "Requirement already satisfied: matplotlib<4.0.0,>=3.7.1 in c:\\users\\gerar\\documents\\python scripts\\lib\\site-packages (from pandasai) (3.8.0)\n",
      "Requirement already satisfied: openai<2 in c:\\users\\gerar\\documents\\python scripts\\lib\\site-packages (from pandasai) (1.17.1)\n",
      "Requirement already satisfied: pandas==1.5.3 in c:\\users\\gerar\\documents\\python scripts\\lib\\site-packages (from pandasai) (1.5.3)\n",
      "Requirement already satisfied: pillow<11.0.0,>=10.1.0 in c:\\users\\gerar\\documents\\python scripts\\lib\\site-packages (from pandasai) (10.2.0)\n",
      "Requirement already satisfied: pydantic<3,>=1 in c:\\users\\gerar\\documents\\python scripts\\lib\\site-packages (from pandasai) (1.10.12)\n",
      "Requirement already satisfied: python-dotenv<2.0.0,>=1.0.0 in c:\\users\\gerar\\documents\\python scripts\\lib\\site-packages (from pandasai) (1.0.1)\n",
      "Requirement already satisfied: requests<3.0.0,>=2.31.0 in c:\\users\\gerar\\documents\\python scripts\\lib\\site-packages (from pandasai) (2.31.0)\n",
      "Requirement already satisfied: scipy<2.0.0,>=1.9.0 in c:\\users\\gerar\\documents\\python scripts\\lib\\site-packages (from pandasai) (1.11.4)\n",
      "Requirement already satisfied: sqlalchemy<3,>=1.4 in c:\\users\\gerar\\documents\\python scripts\\lib\\site-packages (from pandasai) (2.0.25)\n",
      "Requirement already satisfied: python-dateutil>=2.8.1 in c:\\users\\gerar\\documents\\python scripts\\lib\\site-packages (from pandas==1.5.3->pandasai) (2.8.2)\n",
      "Requirement already satisfied: pytz>=2020.1 in c:\\users\\gerar\\documents\\python scripts\\lib\\site-packages (from pandas==1.5.3->pandasai) (2023.3.post1)\n",
      "Requirement already satisfied: numpy>=1.21.0 in c:\\users\\gerar\\documents\\python scripts\\lib\\site-packages (from pandas==1.5.3->pandasai) (1.26.4)\n",
      "Requirement already satisfied: MarkupSafe>=2.0 in c:\\users\\gerar\\documents\\python scripts\\lib\\site-packages (from jinja2<4.0.0,>=3.1.3->pandasai) (2.1.3)\n",
      "Requirement already satisfied: contourpy>=1.0.1 in c:\\users\\gerar\\documents\\python scripts\\lib\\site-packages (from matplotlib<4.0.0,>=3.7.1->pandasai) (1.2.0)\n",
      "Requirement already satisfied: cycler>=0.10 in c:\\users\\gerar\\documents\\python scripts\\lib\\site-packages (from matplotlib<4.0.0,>=3.7.1->pandasai) (0.11.0)\n",
      "Requirement already satisfied: fonttools>=4.22.0 in c:\\users\\gerar\\documents\\python scripts\\lib\\site-packages (from matplotlib<4.0.0,>=3.7.1->pandasai) (4.25.0)\n",
      "Requirement already satisfied: kiwisolver>=1.0.1 in c:\\users\\gerar\\documents\\python scripts\\lib\\site-packages (from matplotlib<4.0.0,>=3.7.1->pandasai) (1.4.4)\n",
      "Requirement already satisfied: packaging>=20.0 in c:\\users\\gerar\\documents\\python scripts\\lib\\site-packages (from matplotlib<4.0.0,>=3.7.1->pandasai) (23.1)\n",
      "Requirement already satisfied: pyparsing>=2.3.1 in c:\\users\\gerar\\documents\\python scripts\\lib\\site-packages (from matplotlib<4.0.0,>=3.7.1->pandasai) (3.0.9)\n",
      "Requirement already satisfied: anyio<5,>=3.5.0 in c:\\users\\gerar\\documents\\python scripts\\lib\\site-packages (from openai<2->pandasai) (4.2.0)\n",
      "Requirement already satisfied: distro<2,>=1.7.0 in c:\\users\\gerar\\documents\\python scripts\\lib\\site-packages (from openai<2->pandasai) (1.8.0)\n",
      "Requirement already satisfied: httpx<1,>=0.23.0 in c:\\users\\gerar\\documents\\python scripts\\lib\\site-packages (from openai<2->pandasai) (0.27.0)\n",
      "Requirement already satisfied: sniffio in c:\\users\\gerar\\documents\\python scripts\\lib\\site-packages (from openai<2->pandasai) (1.3.0)\n",
      "Requirement already satisfied: tqdm>4 in c:\\users\\gerar\\documents\\python scripts\\lib\\site-packages (from openai<2->pandasai) (4.65.0)\n",
      "Requirement already satisfied: typing-extensions<5,>=4.7 in c:\\users\\gerar\\documents\\python scripts\\lib\\site-packages (from openai<2->pandasai) (4.9.0)\n",
      "Requirement already satisfied: charset-normalizer<4,>=2 in c:\\users\\gerar\\documents\\python scripts\\lib\\site-packages (from requests<3.0.0,>=2.31.0->pandasai) (2.0.4)\n",
      "Requirement already satisfied: idna<4,>=2.5 in c:\\users\\gerar\\documents\\python scripts\\lib\\site-packages (from requests<3.0.0,>=2.31.0->pandasai) (3.4)\n",
      "Requirement already satisfied: urllib3<3,>=1.21.1 in c:\\users\\gerar\\documents\\python scripts\\lib\\site-packages (from requests<3.0.0,>=2.31.0->pandasai) (1.26.16)\n",
      "Requirement already satisfied: certifi>=2017.4.17 in c:\\users\\gerar\\documents\\python scripts\\lib\\site-packages (from requests<3.0.0,>=2.31.0->pandasai) (2024.2.2)\n",
      "Requirement already satisfied: greenlet!=0.4.17 in c:\\users\\gerar\\documents\\python scripts\\lib\\site-packages (from sqlalchemy<3,>=1.4->pandasai) (3.0.1)\n",
      "Requirement already satisfied: httpcore==1.* in c:\\users\\gerar\\documents\\python scripts\\lib\\site-packages (from httpx<1,>=0.23.0->openai<2->pandasai) (1.0.5)\n",
      "Requirement already satisfied: h11<0.15,>=0.13 in c:\\users\\gerar\\documents\\python scripts\\lib\\site-packages (from httpcore==1.*->httpx<1,>=0.23.0->openai<2->pandasai) (0.14.0)\n",
      "Requirement already satisfied: six>=1.5 in c:\\users\\gerar\\documents\\python scripts\\lib\\site-packages (from python-dateutil>=2.8.1->pandas==1.5.3->pandasai) (1.16.0)\n",
      "Requirement already satisfied: colorama in c:\\users\\gerar\\documents\\python scripts\\lib\\site-packages (from tqdm>4->openai<2->pandasai) (0.4.6)\n",
      "Note: you may need to restart the kernel to use updated packages.\n"
     ]
    }
   ],
   "source": [
    "pip install pandasai"
   ]
  },
  {
   "cell_type": "code",
   "execution_count": 34,
   "id": "4bb7e128-ca65-471f-9d95-016f8a9c0f84",
   "metadata": {},
   "outputs": [],
   "source": [
    "import pandasai"
   ]
  },
  {
   "cell_type": "code",
   "execution_count": 35,
   "id": "a24547b0-1b32-4e6c-853f-ef32fa5d6d81",
   "metadata": {},
   "outputs": [],
   "source": [
    "import os\n",
    "import pandas as pd\n",
    "from pandasai import Agent"
   ]
  },
  {
   "cell_type": "code",
   "execution_count": 36,
   "id": "2415013a-a7ea-4561-b162-2790fcf25acf",
   "metadata": {},
   "outputs": [],
   "source": [
    "os.environ[\"PANDASAI_API_KEY\"]=\"$2a$10$DCjNNCgYWJdBmhSNZhMGE.QyXEJuaNxxKeSkEpfSNGIP8Irs9nwyW\""
   ]
  },
  {
   "cell_type": "code",
   "execution_count": 37,
   "id": "2ec5514e-6ceb-406d-9583-c9a61df74cde",
   "metadata": {},
   "outputs": [],
   "source": [
    "agent=Agent(combined_df)"
   ]
  },
  {
   "cell_type": "code",
   "execution_count": 44,
   "id": "ec64b638-f722-47fd-a7b6-701f3827ddf7",
   "metadata": {},
   "outputs": [
    {
     "data": {
      "text/plain": [
       "'The date with the highest number of trips is 2021-09-25 with 18178 trips.'"
      ]
     },
     "execution_count": 44,
     "metadata": {},
     "output_type": "execute_result"
    }
   ],
   "source": [
    "agent.chat('Which date of the year has recorded the highest number of trips and how many were there?')"
   ]
  },
  {
   "cell_type": "code",
   "execution_count": 40,
   "id": "1e97560b-61ec-4037-9696-98c587a8e196",
   "metadata": {},
   "outputs": [
    {
     "data": {
      "text/plain": [
       "'The day of the week with the most trips is: 5'"
      ]
     },
     "execution_count": 40,
     "metadata": {},
     "output_type": "execute_result"
    }
   ],
   "source": [
    "agent.chat('What day of the week are most trips made?')"
   ]
  },
  {
   "cell_type": "code",
   "execution_count": 20,
   "id": "2ee6f062-d02f-49b3-bac7-5dcfa19add69",
   "metadata": {},
   "outputs": [
    {
     "data": {
      "text/plain": [
       "'The bike that has done the most trips is 3489.'"
      ]
     },
     "execution_count": 20,
     "metadata": {},
     "output_type": "execute_result"
    }
   ],
   "source": [
    "agent.chat('Which are the bike that have done more trips?')"
   ]
  },
  {
   "cell_type": "code",
   "execution_count": 45,
   "id": "fca9d733-9ca1-462b-8e6e-92089276ce26",
   "metadata": {},
   "outputs": [
    {
     "data": {
      "text/plain": [
       "'The start station IDs that have issued the most trips are: 67'"
      ]
     },
     "execution_count": 45,
     "metadata": {},
     "output_type": "execute_result"
    }
   ],
   "source": [
    "agent.chat('What are the IDs of the start stations that have issued the most trips?')"
   ]
  },
  {
   "cell_type": "code",
   "execution_count": 29,
   "id": "9d19c8e7-27a9-42e1-82d4-ffbef677cb32",
   "metadata": {},
   "outputs": [
    {
     "data": {
      "text/plain": [
       "'The user type that does the most trips is: Subscriber'"
      ]
     },
     "execution_count": 29,
     "metadata": {},
     "output_type": "execute_result"
    }
   ],
   "source": [
    "agent.chat('What type of user does more trips?')"
   ]
  },
  {
   "cell_type": "code",
   "execution_count": 30,
   "id": "a9a4c4bb-dcd4-4af5-894e-e930962e6f41",
   "metadata": {},
   "outputs": [
    {
     "data": {
      "text/plain": [
       "'The day with the most trips is 5.'"
      ]
     },
     "execution_count": 30,
     "metadata": {},
     "output_type": "execute_result"
    }
   ],
   "source": [
    "agent.chat('In which day are bikes most used?')"
   ]
  },
  {
   "cell_type": "code",
   "execution_count": 46,
   "id": "220c9e28-6011-446d-9e5d-52c4f85226e9",
   "metadata": {},
   "outputs": [
    {
     "data": {
      "image/png": "[encoded data removed]",
      "text/plain": [
       "<Figure size 800x800 with 1 Axes>"
      ]
     },
     "metadata": {},
     "output_type": "display_data"
    },
    {
     "name": "stdout",
     "output_type": "stream",
     "text": [
      "C:/Users/gerar/exports/charts/temp_chart.png\n"
     ]
    }
   ],
   "source": [
    "import os\n",
    "from pandasai import SmartDataframe\n",
    "sdf = SmartDataframe(combined_df)\n",
    "response=sdf.chat(\n",
    "    \"Plot the pie chart of number of trips by day of the week\",\n",
    ")\n",
    "print(response)"
   ]
  },
  {
   "cell_type": "code",
   "execution_count": 48,
   "id": "edb26ba6-dd64-470c-b679-69a572d84808",
   "metadata": {},
   "outputs": [
    {
     "data": {
      "text/html": [
       "<div>\n",
       "<style scoped>\n",
       "    .dataframe tbody tr th:only-of-type {\n",
       "        vertical-align: middle;\n",
       "    }\n",
       "\n",
       "    .dataframe tbody tr th {\n",
       "        vertical-align: top;\n",
       "    }\n",
       "\n",
       "    .dataframe thead th {\n",
       "        text-align: right;\n",
       "    }\n",
       "</style>\n",
       "<table border=\"1\" class=\"dataframe\">\n",
       "  <thead>\n",
       "    <tr style=\"text-align: right;\">\n",
       "      <th></th>\n",
       "      <th>End Station Name</th>\n",
       "      <th>Count</th>\n",
       "    </tr>\n",
       "  </thead>\n",
       "  <tbody>\n",
       "    <tr>\n",
       "      <th>0</th>\n",
       "      <td>MIT at Mass Ave / Amherst St</td>\n",
       "      <td>70260</td>\n",
       "    </tr>\n",
       "    <tr>\n",
       "      <th>1</th>\n",
       "      <td>Central Square at Mass Ave / Essex St</td>\n",
       "      <td>52959</td>\n",
       "    </tr>\n",
       "    <tr>\n",
       "      <th>2</th>\n",
       "      <td>Charles Circle - Charles St at Cambridge St</td>\n",
       "      <td>42140</td>\n",
       "    </tr>\n",
       "    <tr>\n",
       "      <th>3</th>\n",
       "      <td>Harvard Square at Mass Ave/ Dunster</td>\n",
       "      <td>40629</td>\n",
       "    </tr>\n",
       "    <tr>\n",
       "      <th>4</th>\n",
       "      <td>Ames St at Main St</td>\n",
       "      <td>37221</td>\n",
       "    </tr>\n",
       "  </tbody>\n",
       "</table>\n",
       "</div>"
      ],
      "text/plain": [
       "                              End Station Name  Count\n",
       "0                 MIT at Mass Ave / Amherst St  70260\n",
       "1        Central Square at Mass Ave / Essex St  52959\n",
       "2  Charles Circle - Charles St at Cambridge St  42140\n",
       "3          Harvard Square at Mass Ave/ Dunster  40629\n",
       "4                           Ames St at Main St  37221"
      ]
     },
     "execution_count": 48,
     "metadata": {},
     "output_type": "execute_result"
    }
   ],
   "source": [
    "agent.chat('Which are the end stations which are more popular and what are their IDs?')"
   ]
  },
  {
   "cell_type": "code",
   "execution_count": 49,
   "id": "870cfc81-5151-46ae-b5a9-47d329934bbf",
   "metadata": {},
   "outputs": [
    {
     "data": {
      "text/html": [
       "<div>\n",
       "<style scoped>\n",
       "    .dataframe tbody tr th:only-of-type {\n",
       "        vertical-align: middle;\n",
       "    }\n",
       "\n",
       "    .dataframe tbody tr th {\n",
       "        vertical-align: top;\n",
       "    }\n",
       "\n",
       "    .dataframe thead th {\n",
       "        text-align: right;\n",
       "    }\n",
       "</style>\n",
       "<table border=\"1\" class=\"dataframe\">\n",
       "  <thead>\n",
       "    <tr style=\"text-align: right;\">\n",
       "      <th></th>\n",
       "      <th>Start Station Name</th>\n",
       "      <th>Trip Count</th>\n",
       "    </tr>\n",
       "  </thead>\n",
       "  <tbody>\n",
       "    <tr>\n",
       "      <th>0</th>\n",
       "      <td>MIT at Mass Ave / Amherst St</td>\n",
       "      <td>69986</td>\n",
       "    </tr>\n",
       "    <tr>\n",
       "      <th>1</th>\n",
       "      <td>Central Square at Mass Ave / Essex St</td>\n",
       "      <td>52542</td>\n",
       "    </tr>\n",
       "    <tr>\n",
       "      <th>2</th>\n",
       "      <td>Charles Circle - Charles St at Cambridge St</td>\n",
       "      <td>41875</td>\n",
       "    </tr>\n",
       "    <tr>\n",
       "      <th>3</th>\n",
       "      <td>Harvard Square at Mass Ave/ Dunster</td>\n",
       "      <td>39214</td>\n",
       "    </tr>\n",
       "    <tr>\n",
       "      <th>4</th>\n",
       "      <td>Christian Science Plaza - Massachusetts Ave at...</td>\n",
       "      <td>34239</td>\n",
       "    </tr>\n",
       "  </tbody>\n",
       "</table>\n",
       "</div>"
      ],
      "text/plain": [
       "                                  Start Station Name  Trip Count\n",
       "0                       MIT at Mass Ave / Amherst St       69986\n",
       "1              Central Square at Mass Ave / Essex St       52542\n",
       "2        Charles Circle - Charles St at Cambridge St       41875\n",
       "3                Harvard Square at Mass Ave/ Dunster       39214\n",
       "4  Christian Science Plaza - Massachusetts Ave at...       34239"
      ]
     },
     "execution_count": 49,
     "metadata": {},
     "output_type": "execute_result"
    }
   ],
   "source": [
    "agent.chat('Which are the start stations which are more popular and what are their IDs?')"
   ]
  }
 ],
 "metadata": {
  "kernelspec": {
   "display_name": "Python 3 (ipykernel)",
   "language": "python",
   "name": "python3"
  },
  "language_info": {
   "codemirror_mode": {
    "name": "ipython",
    "version": 3
   },
   "file_extension": ".py",
   "mimetype": "text/x-python",
   "name": "python",
   "nbconvert_exporter": "python",
   "pygments_lexer": "ipython3",
   "version": "3.11.7"
  }
 },
 "nbformat": 4,
 "nbformat_minor": 5
}
